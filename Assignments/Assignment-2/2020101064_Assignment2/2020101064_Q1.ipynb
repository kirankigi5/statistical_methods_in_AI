{
 "cells": [
  {
   "cell_type": "markdown",
   "id": "186be3d3",
   "metadata": {},
   "source": [
    "# Assignment 2 - Question 1\n",
    "The objective of this assignment is to get you familiarize with  the  problem  of  `KNN Classifiers`.\n",
    "\n",
    "\n",
    "## Instructions\n",
    "- Do not Use Direct Inbuilt functions for the Task.\n",
    "- Numpy or other math libraries are allowed \n",
    "- Ensure that this notebook runs without errors when the cells are run in sequence.\n",
    "- Do not change the contents of the Given cells. Use new cells to Write your code.\n",
    "\n",
    "\n",
    "## Submission\n",
    "- Ensure that this notebook runs without errors when the cells are run in sequence.\n",
    "- Rename the notebook to `<roll_number>_Q1.ipynb`\n",
    "- Fill the Name and Roll number in the below markdown"
   ]
  },
  {
   "cell_type": "markdown",
   "id": "6f6269f1",
   "metadata": {},
   "source": [
    "Name: Kiran Reddy Bhumireddy<br>\n",
    "Roll Number: 2020101064"
   ]
  },
  {
   "cell_type": "markdown",
   "id": "edeabff5",
   "metadata": {},
   "source": [
    "### Dataset\n",
    "\n",
    "Use the code below to load the Dataset"
   ]
  },
  {
   "cell_type": "code",
   "execution_count": 1,
   "id": "69cac090",
   "metadata": {},
   "outputs": [],
   "source": [
    "import numpy as np\n",
    "import pandas as pd\n",
    "from sklearn.model_selection import train_test_split"
   ]
  },
  {
   "cell_type": "code",
   "execution_count": 2,
   "id": "e0fa6912",
   "metadata": {},
   "outputs": [],
   "source": [
    "#Load data\n",
    "iris = pd.read_csv('Iris.csv')\n",
    "#data cleaning\n",
    "iris.drop(columns=\"Id\",inplace=True)"
   ]
  },
  {
   "cell_type": "code",
   "execution_count": 3,
   "id": "1ca8135b",
   "metadata": {},
   "outputs": [],
   "source": [
    "#features and labels\n",
    "X=iris.iloc[:,0:4].values\n",
    "y=iris.iloc[:,4].values\n",
    "\n",
    "#Train and Test split\n",
    "X_train,X_test,y_train,y_test=train_test_split(X,y,test_size=0.2,random_state=0)"
   ]
  },
  {
   "cell_type": "markdown",
   "id": "d14014cb",
   "metadata": {},
   "source": [
    "Write your Code below for KNN Classifier.<br>\n",
    "Use different values of K and test the accuracies."
   ]
  },
  {
   "cell_type": "code",
   "execution_count": 6,
   "id": "6ca8c19d",
   "metadata": {},
   "outputs": [
    {
     "name": "stdout",
     "output_type": "stream",
     "text": [
      "10 Nearest Neighbour/s gave the best accuracy\n"
     ]
    }
   ],
   "source": [
    "def classify_data_point(K, data_point, X_train, y_train):\n",
    "    label = ''\n",
    "    setosa = [0, 'Iris-setosa']\n",
    "    versicolor = [0, 'Iris-versicolor']\n",
    "    virginica = [0, 'Iris-virginica']\n",
    "\n",
    "    dummy_array = np.array([list(data_point)] * len(y_train))\n",
    "\n",
    "    diff_array   = X_train - dummy_array\n",
    "    square_dist_array = np.square(diff_array) ## squares each elem in the array (Using Eucledian Norm)\n",
    "\n",
    "    sum_of_rows_array = np.sum(square_dist_array, axis=1).reshape((len(y_train), 1))\n",
    "    y_train_copy = y_train.copy().reshape((len(y_train), 1))\n",
    "    dist_with_labels_array = np.append(sum_of_rows_array, y_train_copy, axis = 1)\n",
    "\n",
    "    sorted_array = dist_with_labels_array[dist_with_labels_array[:, 0].argsort()]\n",
    "\n",
    "    for i in range(K):\n",
    "        if(sorted_array[i][1] == 'Iris-virginica'):\n",
    "            virginica[0] += 1\n",
    "        elif (sorted_array[i][1] == 'Iris-versicolor'):\n",
    "            versicolor[0] += 1\n",
    "        else:\n",
    "            setosa[0] += 1\n",
    "\n",
    "    \n",
    "    final_array = np.array([setosa, versicolor, virginica])\n",
    "    final_array = final_array[final_array[:, 0].argsort()]\n",
    "    \n",
    "    label = final_array[2][1]\n",
    "\n",
    "    return label\n",
    "    \n",
    "\n",
    "def classify_X_test_corresponding_K(K, X_train, y_train, X_test):\n",
    "    y_test_output_coressponding_K = []\n",
    "\n",
    "    for i in range(len(X_test)):\n",
    "        label = classify_data_point(K, X_test[i], X_train, y_train)\n",
    "        y_test_output_coressponding_K.append(label)\n",
    "\n",
    "    # print(y_test_output_coressponding_K) \n",
    "\n",
    "    return y_test_output_coressponding_K\n",
    "\n",
    "\n",
    "    \n",
    "def K_error_rate(K_vals, K_error, X_test, y_test, X_train, y_train):\n",
    "    \n",
    "    for i in range(len(K_vals)):\n",
    "        K = K_vals[i]\n",
    "        \n",
    "        y_test_output_coressponding_K = classify_X_test_corresponding_K(K, X_train, y_train, X_test)\n",
    "\n",
    "        diff = 0\n",
    "        for j in range(len(y_test)):\n",
    "            if(y_test_output_coressponding_K[j] != y_test[j]):\n",
    "                diff += 1\n",
    "        \n",
    "        K_error[i] = diff / len(y_test)\n",
    "\n",
    "    return K_error\n",
    "\n",
    "\n",
    "K_vals       = [K for K in range(1, len(y_train), 1)] \n",
    "K_error      = [0 for K in range(len(K_vals))]\n",
    "errors       = []\n",
    "\n",
    "\n",
    "for i in range(200):\n",
    "      X_train,X_test,y_train,y_test=train_test_split(X,y,test_size=0.2,random_state=i)\n",
    "      K_error = K_error_rate(K_vals, K_error, X_test, y_test, X_train, y_train)\n",
    "      errors.append(np.array(K_error))\n",
    "\n",
    "errors = np.array(errors)\n",
    "error = np.mean(errors, axis = 0)\n",
    "\n",
    "best_K = np.argmin(error) + 1\n",
    "\n",
    "\n",
    "print(best_K, \"Nearest Neighbour/s gave the best accuracy\")\n"
   ]
  },
  {
   "cell_type": "code",
   "execution_count": 7,
   "id": "a19fc7e6",
   "metadata": {},
   "outputs": [
    {
     "data": {
      "text/plain": [
       "[]"
      ]
     },
     "execution_count": 7,
     "metadata": {},
     "output_type": "execute_result"
    },
    {
     "data": {
      "image/png": "[encoded data removed]",
      "text/plain": [
       "<Figure size 720x432 with 1 Axes>"
      ]
     },
     "metadata": {
      "needs_background": "light"
     },
     "output_type": "display_data"
    }
   ],
   "source": [
    "import matplotlib.pyplot as plt\n",
    "\n",
    "plt.figure(figsize=(10, 6))\n",
    "plt.plot(K_vals, error, color='blue', linestyle='dashed', marker='o', markerfacecolor='red', markersize=9)\n",
    "plt.title('Error Rate vs K')\n",
    "plt.xlabel('K')\n",
    "plt.ylabel('Error Rate')\n",
    "plt.plot()"
   ]
  },
  {
   "cell_type": "markdown",
   "id": "1c3ac0ca",
   "metadata": {},
   "source": [
    "### Questions\n",
    "\n",
    "1) What are the Advantages and Disadvantages of KNN algorithm?<br>\n",
    "2) What is the complexity of the KNN algorithm during Training and Testing?<br> \n",
    "3) Is euclidian distance the only distance metric used in KNN? \n",
    "4) what K value gave the best accuracy?"
   ]
  },
  {
   "cell_type": "markdown",
   "id": "6cb86c27",
   "metadata": {},
   "source": [
    "1) What are the Advantages and Disadvantages of KNN algorithm?<br>\n",
    "   Advantages: </br></br> \n",
    "   No training required, so new data can be added ata any time </br>\n",
    "   </br>\n",
    "   Disdvantages: </br></br>\n",
    "    Doesn't work well when dataset is large </br>\n",
    "   Data normalization </br>\n",
    "   Sesnitive to noise and missing data\n",
    "   </br>\n",
    "2) What is the complexity of the KNN algorithm during Training and Testing?<br>\n",
    "   Training: O(1)\n",
    "   Testing: O(nlogn * K)\n",
    "   \n",
    "\n",
    "3) Is euclidian distance the only distance metric used in KNN? </br> \n",
    "   >No, Minkowski Distance, Manhattan distance , Cosine Distance are also used in KNN. \n",
    "4) what K value gave the best accuracy? \n",
    "    >10th nearest neighbour           "
   ]
  }
 ],
 "metadata": {
  "kernelspec": {
   "display_name": "Python 3 (ipykernel)",
   "language": "python",
   "name": "python3"
  },
  "language_info": {
   "codemirror_mode": {
    "name": "ipython",
    "version": 3
   },
   "file_extension": ".py",
   "mimetype": "text/x-python",
   "name": "python",
   "nbconvert_exporter": "python",
   "pygments_lexer": "ipython3",
   "version": "3.8.10"
  },
  "vscode": {
   "interpreter": {
    "hash": "916dbcbb3f70747c44a77c7bcd40155683ae19c65e1c03b4aa3499c5328201f1"
   }
  }
 },
 "nbformat": 4,
 "nbformat_minor": 5
}
