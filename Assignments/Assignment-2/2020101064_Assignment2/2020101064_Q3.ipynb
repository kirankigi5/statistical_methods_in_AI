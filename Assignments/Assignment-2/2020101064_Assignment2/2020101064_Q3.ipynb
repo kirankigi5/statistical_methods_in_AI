{
 "cells": [
  {
   "cell_type": "markdown",
   "id": "389ddf1d",
   "metadata": {},
   "source": [
    "# Assignment 2 - Question 3\n",
    "The objective of this assignment is to get you familiarize with  the  problem  of  `Logistic Regression`.\n",
    "\n",
    "\n",
    "## Instructions\n",
    "- Do not Use Direct Inbuilt functions for the Task.\n",
    "- Numpy or other math libraries are allowed.\n",
    "- Ensure that this notebook runs without errors when the cells are run in sequence.\n",
    "- Do not change the contents of the Given cells. Use new cells to Write your code.\n",
    "\n",
    "\n",
    "## Submission\n",
    "- Ensure that this notebook runs without errors when the cells are run in sequence.\n",
    "- Rename the notebook to `<roll_number>_Q3.ipynb`\n",
    "- Fill the Name and Roll number in the below markdown"
   ]
  },
  {
   "cell_type": "markdown",
   "id": "6f6269f1",
   "metadata": {},
   "source": [
    "Name: Kiran Reddy Bhumireddy<br>\n",
    "Roll Number: 2020101064"
   ]
  },
  {
   "cell_type": "markdown",
   "id": "850dba90",
   "metadata": {},
   "source": [
    "### Dataset\n",
    "\n",
    "Use the code below to load the Dataset\n"
   ]
  },
  {
   "cell_type": "code",
   "execution_count": 1,
   "id": "225cdbe5",
   "metadata": {},
   "outputs": [],
   "source": [
    "import numpy as np\n",
    "import matplotlib.pyplot as plt"
   ]
  },
  {
   "cell_type": "code",
   "execution_count": 2,
   "id": "73ed0112",
   "metadata": {},
   "outputs": [],
   "source": [
    "from sklearn.datasets import make_blobs\n",
    "X, y =  make_blobs(n_samples=100, centers=[[2,4],[4,2]], random_state=20)"
   ]
  },
  {
   "cell_type": "code",
   "execution_count": 3,
   "id": "b2ec2927",
   "metadata": {},
   "outputs": [
    {
     "data": {
      "text/plain": [
       "[<matplotlib.lines.Line2D at 0x7efbc74e8640>]"
      ]
     },
     "execution_count": 3,
     "metadata": {},
     "output_type": "execute_result"
    },
    {
     "data": {
      "image/png": "[encoded data removed]",
      "text/plain": [
       "<Figure size 432x288 with 1 Axes>"
      ]
     },
     "metadata": {
      "needs_background": "light"
     },
     "output_type": "display_data"
    }
   ],
   "source": [
    "#Visualize dataset \n",
    "plt.plot(X[:,0][y==0],X[:,1][y==0],'o',color='red')\n",
    "plt.plot(X[:,0][y==1],X[:,1][y==1],'^',color='blue')"
   ]
  },
  {
   "cell_type": "markdown",
   "id": "43326e6b",
   "metadata": {},
   "source": [
    "Write your code below for logistic regression with Gradient Descent and plot the decision boundary.<br>\n",
    "Sample output is given in the file `LogisticRegression_sample_result.png`"
   ]
  },
  {
   "cell_type": "code",
   "execution_count": 4,
   "id": "d5eed247",
   "metadata": {},
   "outputs": [
    {
     "data": {
      "text/plain": [
       "[<matplotlib.lines.Line2D at 0x7efbc537ed60>]"
      ]
     },
     "execution_count": 4,
     "metadata": {},
     "output_type": "execute_result"
    },
    {
     "data": {
      "image/png": "[encoded data removed]",
      "text/plain": [
       "<Figure size 432x432 with 1 Axes>"
      ]
     },
     "metadata": {
      "needs_background": "light"
     },
     "output_type": "display_data"
    }
   ],
   "source": [
    "m = len(y)\n",
    "col = np.ones(len(y), int)\n",
    "X_new = np.insert(X, 0, col, axis = 1)\n",
    "\n",
    "w = np.array([1, 1, 1]) ### init w (parameters to estimate)\n",
    "learning_rate = 2\n",
    "\n",
    "e = np.exp(-20)\n",
    "\n",
    "def compute_y_hat(X_new, w, i):\n",
    "    return (1 / (1 + np.exp(-w @ np.transpose(X_new[i]))))\n",
    "    \n",
    "def compute_delta_w(X_new, y, w, m):\n",
    "    delta_w = np.array([0.0, 0.0, 0.0])\n",
    "    c = -(learning_rate / m)\n",
    "    \n",
    "    for i in range(len(w)):\n",
    "        for j in range(m):\n",
    "            delta_w[i] += X_new[j][i] * ((compute_y_hat(X_new, w, j)) - y[j])\n",
    "\n",
    "    return c * delta_w\n",
    "\n",
    "while(True):\n",
    "        delta_w = compute_delta_w(X_new, y, w, m)\n",
    "        w = w + delta_w\n",
    "\n",
    "        error = np.sum(np.square(delta_w))\n",
    "\n",
    "        # print(error)\n",
    "\n",
    "        if(error < e):\n",
    "            break\n",
    "\n",
    "plt.figure(figsize=(6, 6))\n",
    "\n",
    "plt.plot(X[:,0][y==0],X[:,1][y==0],'o',color='red')\n",
    "plt.plot(X[:,0][y==1],X[:,1][y==1],'^',color='blue')\n",
    "\n",
    "x_coordinates = np.linspace(0, 6, 1000)\n",
    "y_coordinates = (-1/w[2]) * (w[0] + w[1] * x_coordinates) \n",
    "\n",
    "plt.plot(x_coordinates, y_coordinates)"
   ]
  },
  {
   "cell_type": "markdown",
   "id": "c1f2b4c5",
   "metadata": {},
   "source": [
    "### Questions\n",
    "\n",
    "1) Explain the approach of Logistic Regression.<br>\n",
    "   > we use Gradient descent and the below cost function to find the best weights w and the decison boundary will be w<sup>T</sup>X = 0\n",
    "2) What is the loss function used?<br>\n",
    "   $cost = -1/m * \\Sigma(y * log(y_{pred}) + (1 - y) * log(1 - y_{pred})) $\n",
    "   \n",
    "3) Explain if we can use Mean Square Error(MSE) as Loss function.\n",
    "   > No we can't use MSE as loss function since it is non-convex, it has many global minima "
   ]
  }
 ],
 "metadata": {
  "kernelspec": {
   "display_name": "Python 3.8.10 64-bit",
   "language": "python",
   "name": "python3"
  },
  "language_info": {
   "codemirror_mode": {
    "name": "ipython",
    "version": 3
   },
   "file_extension": ".py",
   "mimetype": "text/x-python",
   "name": "python",
   "nbconvert_exporter": "python",
   "pygments_lexer": "ipython3",
   "version": "3.8.10"
  },
  "vscode": {
   "interpreter": {
    "hash": "916dbcbb3f70747c44a77c7bcd40155683ae19c65e1c03b4aa3499c5328201f1"
   }
  }
 },
 "nbformat": 4,
 "nbformat_minor": 5
}
